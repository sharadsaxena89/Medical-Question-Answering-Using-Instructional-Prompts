{
 "cells": [
  {
   "cell_type": "code",
   "execution_count": null,
   "metadata": {},
   "outputs": [],
   "source": [
    "import pandas as pd\n",
    "import csv"
   ]
  },
  {
   "cell_type": "code",
   "execution_count": null,
   "metadata": {},
   "outputs": [],
   "source": [
    "import pandas as pd\n",
    "import csv\n",
    "\n",
    "filename = '1.tsv'\n",
    "\n",
    "read_dir = 'C:\\\\Study Material\\\\Thesis\\\\Prompt_Tuning_v2\\\\Result_of_step_2'    \n",
    "read_path = read_dir + '\\\\' + filename  \n",
    "\n",
    "df = pd.read_csv(read_path, delimiter='\\t')\n",
    "\n",
    "df"
   ]
  },
  {
   "cell_type": "code",
   "execution_count": null,
   "metadata": {},
   "outputs": [],
   "source": [
    "list_of_table_ids = list(df['Table Id'])\n",
    "list_of_questions = list(df['Question'])\n",
    "list_of_answers = list(df['Answer'])"
   ]
  },
  {
   "cell_type": "code",
   "execution_count": null,
   "metadata": {},
   "outputs": [],
   "source": [
    "list_of_entries = []\n",
    "for i in range(0,len(df)):\n",
    "    individual_row = [list_of_table_ids[i],list_of_questions[i],list_of_answers[i]]\n",
    "    list_of_entries.append(individual_row)"
   ]
  },
  {
   "cell_type": "code",
   "execution_count": null,
   "metadata": {},
   "outputs": [],
   "source": [
    "list_of_entries[0][1]"
   ]
  },
  {
   "cell_type": "code",
   "execution_count": null,
   "metadata": {},
   "outputs": [],
   "source": [
    "list_of_entries_with_duplicates = []\n",
    "for entry in list_of_entries:\n",
    "    table_id = entry[0]\n",
    "    question = entry[1]\n",
    "    answer = entry[2]\n",
    "    list_of_tables = []\n",
    "    list_of_answers =[]\n",
    "    for entry_2 in list_of_entries:\n",
    "        table_id_2 = entry_2[0]\n",
    "        question_2 = entry_2[1]\n",
    "        answer_2 = entry_2[2]\n",
    "        if (question==question_2):\n",
    "            list_of_tables.append(table_id_2)\n",
    "            list_of_answers.append(answer_2)\n",
    "    individual_row = [table_id,question,answer,list_of_tables,list_of_answers]\n",
    "    list_of_entries_with_duplicates.append(individual_row)"
   ]
  },
  {
   "cell_type": "code",
   "execution_count": null,
   "metadata": {},
   "outputs": [],
   "source": [
    "# Write the data to file\n",
    "\n",
    "question_template_file_name = filename\n",
    "\n",
    "write_dir = \"C:\\\\Study Material\\\\Thesis\\\\Prompt_Tuning_v2\\\\Result_of_step_3\"\n",
    "\n",
    "path_write = write_dir + \"\\\\\" + question_template_file_name \n",
    "\n",
    "headerList = ['Table Id','Question','Answer','List of Tables','List of Answers']\n",
    "\n",
    "with open(path_write,\"w\", newline='', encoding='utf-8') as csv_file:\n",
    "    csv_writer = csv.writer(csv_file, delimiter='\\t')\n",
    "\n",
    "    csv_writer.writerow(headerList)\n",
    "\n",
    "    for individual_row in list_of_entries_with_duplicates:\n",
    "\n",
    "        csv_writer.writerow(individual_row)\n",
    "#                 print(individual_row)\n",
    "\n",
    "print(\"File successfully written: \",path_write)\n",
    "print(\"Number of questions\",len(list_of_entries_with_duplicates))  "
   ]
  },
  {
   "cell_type": "code",
   "execution_count": null,
   "metadata": {},
   "outputs": [],
   "source": [
    "list_of_entries_with_duplicates[0]"
   ]
  },
  {
   "cell_type": "code",
   "execution_count": null,
   "metadata": {},
   "outputs": [],
   "source": [
    "def generate_duplciate_answer_list(filename):\n",
    "    read_dir = 'C:\\\\Study Material\\\\Thesis\\\\Prompt_Tuning_v2\\\\Result_of_step_2'    \n",
    "    read_path = read_dir + '\\\\' + filename  \n",
    "    df = pd.read_csv(read_path, delimiter='\\t')\n",
    "    list_of_table_ids = list(df['Table Id'])\n",
    "    list_of_questions = list(df['Question'])\n",
    "    list_of_answers = list(df['Answer'])\n",
    "    list_of_entries = []\n",
    "    for i in range(0,len(df)):\n",
    "        individual_row = [list_of_table_ids[i],list_of_questions[i],list_of_answers[i]]\n",
    "        list_of_entries.append(individual_row)\n",
    "    list_of_entries_with_duplicates = []\n",
    "    for entry in list_of_entries:\n",
    "        table_id = entry[0]\n",
    "        question = entry[1]\n",
    "        answer = entry[2]\n",
    "        list_of_tables = []\n",
    "        list_of_answers =[]\n",
    "        for entry_2 in list_of_entries:\n",
    "            table_id_2 = entry_2[0]\n",
    "            question_2 = entry_2[1]\n",
    "            answer_2 = entry_2[2]\n",
    "            if (question==question_2):\n",
    "                list_of_tables.append(table_id_2)\n",
    "                list_of_answers.append(answer_2)\n",
    "        individual_row = [table_id,question,answer,list_of_tables,list_of_answers]\n",
    "        list_of_entries_with_duplicates.append(individual_row)\n",
    "        \n",
    "    # Write the data to file\n",
    "\n",
    "    question_template_file_name = filename\n",
    "\n",
    "    write_dir = \"C:\\\\Study Material\\\\Thesis\\\\Prompt_Tuning_v2\\\\Result_of_step_3\"\n",
    "\n",
    "    path_write = write_dir + \"\\\\\" + question_template_file_name \n",
    "\n",
    "    headerList = ['Table Id','Question','Answer','List of Tables','List of Answers']\n",
    "\n",
    "    with open(path_write,\"w\", newline='', encoding='utf-8') as csv_file:\n",
    "        csv_writer = csv.writer(csv_file, delimiter='\\t')\n",
    "\n",
    "        csv_writer.writerow(headerList)\n",
    "\n",
    "        for individual_row in list_of_entries_with_duplicates:\n",
    "\n",
    "            csv_writer.writerow(individual_row)\n",
    "    #                 print(individual_row)\n",
    "\n",
    "    print(\"File successfully written: \",path_write)\n",
    "    print(\"Number of questions\",len(list_of_entries_with_duplicates)) \n",
    "\n",
    "generate_duplciate_answer_list('1.tsv')    "
   ]
  },
  {
   "cell_type": "code",
   "execution_count": null,
   "metadata": {},
   "outputs": [],
   "source": [
    "for i in range(1,23):\n",
    "    filename = str(i) + '.tsv'\n",
    "    generate_duplciate_answer_list(filename)   "
   ]
  },
  {
   "cell_type": "code",
   "execution_count": null,
   "metadata": {},
   "outputs": [],
   "source": []
  }
 ],
 "metadata": {
  "kernelspec": {
   "display_name": "Python 3",
   "language": "python",
   "name": "python3"
  },
  "language_info": {
   "codemirror_mode": {
    "name": "ipython",
    "version": 3
   },
   "file_extension": ".py",
   "mimetype": "text/x-python",
   "name": "python",
   "nbconvert_exporter": "python",
   "pygments_lexer": "ipython3",
   "version": "3.7.6"
  }
 },
 "nbformat": 4,
 "nbformat_minor": 4
}
