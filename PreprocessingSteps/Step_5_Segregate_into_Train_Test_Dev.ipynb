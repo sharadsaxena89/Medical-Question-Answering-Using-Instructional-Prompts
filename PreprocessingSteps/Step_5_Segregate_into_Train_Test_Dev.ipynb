{
 "cells": [
  {
   "cell_type": "code",
   "execution_count": null,
   "metadata": {},
   "outputs": [],
   "source": [
    "import pandas as pd\n",
    "import csv\n",
    "import os\n",
    "import random\n",
    "\n",
    "filename = '1.tsv'\n",
    "\n",
    "read_dir = 'C:\\\\Study Material\\\\Thesis\\\\Prompt_Tuning_v2\\\\Result_of_step_4'    \n",
    "read_path = read_dir + '\\\\' + filename  \n",
    "\n",
    "df = pd.read_csv(read_path, delimiter='\\t')\n",
    "\n",
    "df"
   ]
  },
  {
   "cell_type": "code",
   "execution_count": null,
   "metadata": {},
   "outputs": [],
   "source": [
    "row_id = 0\n",
    "individual_row = [df.iloc[row_id,0],df.iloc[row_id,1],df.iloc[row_id,2],df.iloc[row_id,3],df.iloc[row_id,4],0]"
   ]
  },
  {
   "cell_type": "code",
   "execution_count": null,
   "metadata": {},
   "outputs": [],
   "source": [
    "individual_row"
   ]
  },
  {
   "cell_type": "code",
   "execution_count": null,
   "metadata": {},
   "outputs": [],
   "source": [
    "list_of_initial_rows = []\n",
    "for row_id in range(0,len(df)):\n",
    "    individual_row = [df.iloc[row_id,0],df.iloc[row_id,1],df.iloc[row_id,2],df.iloc[row_id,3],df.iloc[row_id,4],0]\n",
    "    list_of_initial_rows.append(individual_row)"
   ]
  },
  {
   "cell_type": "code",
   "execution_count": null,
   "metadata": {},
   "outputs": [],
   "source": [
    "list_of_initial_rows[0][5] =1"
   ]
  },
  {
   "cell_type": "code",
   "execution_count": null,
   "metadata": {},
   "outputs": [],
   "source": [
    "list_of_initial_rows[0][5]"
   ]
  },
  {
   "cell_type": "code",
   "execution_count": null,
   "metadata": {},
   "outputs": [],
   "source": [
    "list_of_initial_rows[0][1]"
   ]
  },
  {
   "cell_type": "code",
   "execution_count": null,
   "metadata": {},
   "outputs": [],
   "source": [
    "list_of_initial_rows[0]"
   ]
  },
  {
   "cell_type": "code",
   "execution_count": null,
   "metadata": {},
   "outputs": [],
   "source": [
    "list_of_rearranged_rows = []\n",
    "for row_id in range(0,len(list_of_initial_rows)):\n",
    "    individual_row = list_of_initial_rows[row_id]\n",
    "    question= list_of_initial_rows[row_id][1]\n",
    "    already_added_flag = list_of_initial_rows[row_id][5]\n",
    "    if not(already_added_flag):\n",
    "        list_of_rearranged_rows.append(individual_row)\n",
    "        list_of_initial_rows[row_id][5] = 1\n",
    "    for row_id_2 in range((row_id+1),len(list_of_initial_rows)):\n",
    "        already_added_flag_2 = list_of_initial_rows[row_id_2][5]\n",
    "        if not(already_added_flag_2):\n",
    "            individual_row_2 = list_of_initial_rows[row_id_2]\n",
    "            question_2 = list_of_initial_rows[row_id_2][1]\n",
    "            if (question == question_2):\n",
    "                list_of_rearranged_rows.append(individual_row_2)\n",
    "                list_of_initial_rows[row_id_2][5] = 1"
   ]
  },
  {
   "cell_type": "code",
   "execution_count": null,
   "metadata": {},
   "outputs": [],
   "source": [
    "len(list_of_rearranged_rows)"
   ]
  },
  {
   "cell_type": "code",
   "execution_count": null,
   "metadata": {},
   "outputs": [],
   "source": [
    "list_of_rearranged_rows"
   ]
  },
  {
   "cell_type": "code",
   "execution_count": null,
   "metadata": {},
   "outputs": [],
   "source": [
    "list_of_entries = []\n",
    "for row_id in range(0,len(list_of_rearranged_rows)):\n",
    "    individual_row = [list_of_rearranged_rows[row_id][0],list_of_rearranged_rows[row_id][1],list_of_rearranged_rows[row_id][2],list_of_rearranged_rows[row_id][3],list_of_rearranged_rows[row_id][4]]\n",
    "    list_of_entries.append(individual_row)"
   ]
  },
  {
   "cell_type": "code",
   "execution_count": null,
   "metadata": {},
   "outputs": [],
   "source": [
    "list_of_entries"
   ]
  },
  {
   "cell_type": "code",
   "execution_count": null,
   "metadata": {},
   "outputs": [],
   "source": [
    "split_1 = int(0.7 * len(list_of_entries))\n",
    "split_2 = int(0.8 * len(list_of_entries))\n",
    "split_3 = int(len(list_of_entries))\n",
    "list_of_train_rows = list_of_entries[0:split_1]\n",
    "list_of_dev_rows = list_of_entries[split_1:split_2]\n",
    "list_of_test_rows = list_of_entries[split_2:]"
   ]
  },
  {
   "cell_type": "code",
   "execution_count": null,
   "metadata": {},
   "outputs": [],
   "source": [
    "train_file_name = filename.split('.')[0] + '_train_file.tsv'\n",
    "dev_file_name = filename.split('.')[0] + '_dev_file.tsv'\n",
    "test_file_name = filename.split('.')[0] + '_test_file.tsv'\n",
    "\n",
    "write_dir = \"C:\\\\Study Material\\\\Thesis\\\\Prompt_Tuning_v2\\\\Result_of_step_5_v2\"\n",
    "\n",
    "path_write = write_dir + \"\\\\\" + train_file_name \n",
    "\n",
    "headerList = ['Table Id','Question','Answer','List of Tables','List of Answers']\n",
    "\n",
    "with open(path_write,\"w\", newline='', encoding='utf-8') as csv_file:\n",
    "    csv_writer = csv.writer(csv_file, delimiter='\\t')\n",
    "\n",
    "    csv_writer.writerow(headerList)\n",
    "\n",
    "    for individual_row in list_of_train_rows:\n",
    "\n",
    "        csv_writer.writerow(individual_row)\n",
    "\n",
    "print(\"File successfully written: \",path_write)\n",
    "\n",
    "path_write = write_dir + \"\\\\\" + dev_file_name \n",
    "\n",
    "with open(path_write,\"w\", newline='', encoding='utf-8') as csv_file:\n",
    "    csv_writer = csv.writer(csv_file, delimiter='\\t')\n",
    "\n",
    "    csv_writer.writerow(headerList)\n",
    "\n",
    "    for individual_row in list_of_dev_rows:\n",
    "\n",
    "        csv_writer.writerow(individual_row)\n",
    "\n",
    "print(\"File successfully written: \",path_write)\n",
    "\n",
    "path_write = write_dir + \"\\\\\" + test_file_name \n",
    "\n",
    "with open(path_write,\"w\", newline='', encoding='utf-8') as csv_file:\n",
    "    csv_writer = csv.writer(csv_file, delimiter='\\t')\n",
    "\n",
    "    csv_writer.writerow(headerList)\n",
    "\n",
    "    for individual_row in list_of_test_rows:\n",
    "\n",
    "        csv_writer.writerow(individual_row)\n",
    "\n",
    "print(\"File successfully written: \",path_write)"
   ]
  },
  {
   "cell_type": "code",
   "execution_count": null,
   "metadata": {},
   "outputs": [],
   "source": [
    "def generate_train_dev_test(filename):\n",
    "    read_dir = 'C:\\\\Study Material\\\\Thesis\\\\Prompt_Tuning_v2\\\\Result_of_step_4'    \n",
    "    read_path = read_dir + '\\\\' + filename \n",
    "\n",
    "    df = pd.read_csv(read_path, delimiter='\\t')\n",
    "    list_of_initial_rows = []\n",
    "    for row_id in range(0,len(df)):\n",
    "        individual_row = [df.iloc[row_id,0],df.iloc[row_id,1],df.iloc[row_id,2],df.iloc[row_id,3],df.iloc[row_id,4],0]\n",
    "        list_of_initial_rows.append(individual_row)\n",
    "        \n",
    "    list_of_rearranged_rows = []\n",
    "    for row_id in range(0,len(list_of_initial_rows)):\n",
    "        individual_row = list_of_initial_rows[row_id]\n",
    "        question= list_of_initial_rows[row_id][1]\n",
    "        already_added_flag = list_of_initial_rows[row_id][5]\n",
    "        if not(already_added_flag):\n",
    "            list_of_rearranged_rows.append(individual_row)\n",
    "            list_of_initial_rows[row_id][5] = 1\n",
    "        for row_id_2 in range((row_id+1),len(list_of_initial_rows)):\n",
    "            already_added_flag_2 = list_of_initial_rows[row_id_2][5]\n",
    "            if not(already_added_flag_2):\n",
    "                individual_row_2 = list_of_initial_rows[row_id_2]\n",
    "                question_2 = list_of_initial_rows[row_id_2][1]\n",
    "                if (question == question_2):\n",
    "                    list_of_rearranged_rows.append(individual_row_2)\n",
    "                    list_of_initial_rows[row_id_2][5] = 1\n",
    "                    \n",
    "    list_of_entries = []\n",
    "    for row_id in range(0,len(list_of_rearranged_rows)):\n",
    "        individual_row = [list_of_rearranged_rows[row_id][0],list_of_rearranged_rows[row_id][1],list_of_rearranged_rows[row_id][2],list_of_rearranged_rows[row_id][3],list_of_rearranged_rows[row_id][4]]\n",
    "        list_of_entries.append(individual_row)\n",
    "        \n",
    "    split_1 = int(0.7 * len(list_of_entries))\n",
    "    split_2 = int(0.8 * len(list_of_entries))\n",
    "    split_3 = int(len(list_of_entries))\n",
    "    list_of_train_rows = list_of_entries[0:split_1]\n",
    "    list_of_dev_rows = list_of_entries[split_1:split_2]\n",
    "    list_of_test_rows = list_of_entries[split_2:]\n",
    "    \n",
    "    train_file_name = filename.split('.')[0] + '_train_file.tsv'\n",
    "    dev_file_name = filename.split('.')[0] + '_dev_file.tsv'\n",
    "    test_file_name = filename.split('.')[0] + '_test_file.tsv'\n",
    "\n",
    "    write_dir = \"C:\\\\Study Material\\\\Thesis\\\\Prompt_Tuning_v2\\\\Result_of_step_5_v2\"\n",
    "\n",
    "    path_write = write_dir + \"\\\\\" + train_file_name \n",
    "\n",
    "    headerList = ['Table Id','Question','Answer','List of Tables','List of Answers']\n",
    "\n",
    "    with open(path_write,\"w\", newline='', encoding='utf-8') as csv_file:\n",
    "        csv_writer = csv.writer(csv_file, delimiter='\\t')\n",
    "\n",
    "        csv_writer.writerow(headerList)\n",
    "\n",
    "        for individual_row in list_of_train_rows:\n",
    "\n",
    "            csv_writer.writerow(individual_row)\n",
    "\n",
    "    print(\"File successfully written: \",path_write)\n",
    "\n",
    "    path_write = write_dir + \"\\\\\" + dev_file_name \n",
    "\n",
    "    with open(path_write,\"w\", newline='', encoding='utf-8') as csv_file:\n",
    "        csv_writer = csv.writer(csv_file, delimiter='\\t')\n",
    "\n",
    "        csv_writer.writerow(headerList)\n",
    "\n",
    "        for individual_row in list_of_dev_rows:\n",
    "\n",
    "            csv_writer.writerow(individual_row)\n",
    "\n",
    "    print(\"File successfully written: \",path_write)\n",
    "\n",
    "    path_write = write_dir + \"\\\\\" + test_file_name \n",
    "\n",
    "    with open(path_write,\"w\", newline='', encoding='utf-8') as csv_file:\n",
    "        csv_writer = csv.writer(csv_file, delimiter='\\t')\n",
    "\n",
    "        csv_writer.writerow(headerList)\n",
    "\n",
    "        for individual_row in list_of_test_rows:\n",
    "\n",
    "            csv_writer.writerow(individual_row)\n",
    "\n",
    "    print(\"File successfully written: \",path_write)\n",
    "\n",
    "generate_train_dev_test('1.tsv')"
   ]
  },
  {
   "cell_type": "code",
   "execution_count": null,
   "metadata": {},
   "outputs": [],
   "source": [
    "for i in range(1,23):\n",
    "    filename = str(i)+'.tsv'\n",
    "    generate_train_dev_test(filename)"
   ]
  },
  {
   "cell_type": "code",
   "execution_count": null,
   "metadata": {},
   "outputs": [],
   "source": []
  }
 ],
 "metadata": {
  "kernelspec": {
   "display_name": "Python 3",
   "language": "python",
   "name": "python3"
  },
  "language_info": {
   "codemirror_mode": {
    "name": "ipython",
    "version": 3
   },
   "file_extension": ".py",
   "mimetype": "text/x-python",
   "name": "python",
   "nbconvert_exporter": "python",
   "pygments_lexer": "ipython3",
   "version": "3.7.6"
  }
 },
 "nbformat": 4,
 "nbformat_minor": 4
}
